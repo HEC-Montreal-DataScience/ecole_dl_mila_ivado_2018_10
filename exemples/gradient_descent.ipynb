{
 "cells": [
  {
   "cell_type": "markdown",
   "metadata": {},
   "source": [
    "# Gradient Descent\n",
    "\n",
    "Ce notebook contient du code qui permet de visualiser les étapes de différents algorithmes gradient descent. Il dépend de certaines librairies externes:\n",
    "\n",
    "Dependances:\n",
    "- matplotlib >=3.0.0\n",
    "- ipyvolume\n",
    "- autograd"
   ]
  },
  {
   "cell_type": "markdown",
   "metadata": {},
   "source": [
    "# Utilities"
   ]
  },
  {
   "cell_type": "code",
   "execution_count": 1,
   "metadata": {
    "ExecuteTime": {
     "end_time": "2018-10-18T01:22:49.380871Z",
     "start_time": "2018-10-18T01:22:48.765495Z"
    }
   },
   "outputs": [],
   "source": [
    "import ipyvolume as ipv\n",
    "import autograd.numpy as np\n",
    "import matplotlib\n",
    "from matplotlib import cm\n",
    "from scipy import optimize\n",
    "\n",
    "from autograd import grad, value_and_grad\n",
    "import matplotlib.pyplot as plt\n",
    "%matplotlib inline"
   ]
  },
  {
   "cell_type": "code",
   "execution_count": 2,
   "metadata": {
    "ExecuteTime": {
     "end_time": "2018-10-18T01:22:49.384476Z",
     "start_time": "2018-10-18T01:22:49.382186Z"
    }
   },
   "outputs": [
    {
     "name": "stdout",
     "output_type": "stream",
     "text": [
      "3.0.0\n"
     ]
    }
   ],
   "source": [
    "print(matplotlib.__version__)"
   ]
  },
  {
   "cell_type": "markdown",
   "metadata": {},
   "source": [
    "# Loss Functions\n",
    "\n",
    "Définition d'une fonction z = f(__x__) où **x** est un vecteur. "
   ]
  },
  {
   "cell_type": "code",
   "execution_count": 3,
   "metadata": {
    "ExecuteTime": {
     "end_time": "2018-10-18T01:22:49.395942Z",
     "start_time": "2018-10-18T01:22:49.388727Z"
    }
   },
   "outputs": [],
   "source": [
    "def quad_func(x, W=[[1,0],[0,1]]):\n",
    "    '''Définiton de fonction quadratique.\n",
    "    \n",
    "    W: matrice 2x2\n",
    "    x: ndarray() ou np.meshgrid()\n",
    "    \n",
    "    '''\n",
    "    u, v = x\n",
    "    z = u**2*W[0][0]+u*v*W[1][0]+v*u*W[0][1]+v**2*W[1][1]\n",
    "    return z"
   ]
  },
  {
   "cell_type": "code",
   "execution_count": 4,
   "metadata": {
    "ExecuteTime": {
     "end_time": "2018-10-18T01:22:49.399775Z",
     "start_time": "2018-10-18T01:22:49.397113Z"
    }
   },
   "outputs": [],
   "source": [
    "def sinus_func(x):\n",
    "    u, v = x\n",
    "    return np.sin((u+v)) + (u-v)**2 - 1.5*u + 2.5*v + 1"
   ]
  },
  {
   "cell_type": "code",
   "execution_count": 5,
   "metadata": {
    "ExecuteTime": {
     "end_time": "2018-10-18T01:22:49.403223Z",
     "start_time": "2018-10-18T01:22:49.400935Z"
    }
   },
   "outputs": [],
   "source": [
    "def jeremy_func(x): # Erreur avec la visualisation 3D\n",
    "    u, v = x\n",
    "    return u**2 + 2*u**2*v**2 + 5*v**2"
   ]
  },
  {
   "cell_type": "markdown",
   "metadata": {},
   "source": [
    "# Optimizer steps"
   ]
  },
  {
   "cell_type": "code",
   "execution_count": 6,
   "metadata": {
    "ExecuteTime": {
     "end_time": "2018-10-18T01:22:49.406761Z",
     "start_time": "2018-10-18T01:22:49.404350Z"
    }
   },
   "outputs": [],
   "source": [
    "class Optimizer():\n",
    "    '''Parent class for optimizers.'''\n",
    "    def __init__(self, lr):\n",
    "        self.lr = lr\n",
    "    \n",
    "    def step(self, x, dx):\n",
    "        raise NotImplementedError('Step method not implemented!')"
   ]
  },
  {
   "cell_type": "code",
   "execution_count": 7,
   "metadata": {
    "ExecuteTime": {
     "end_time": "2018-10-18T01:22:49.410607Z",
     "start_time": "2018-10-18T01:22:49.407989Z"
    }
   },
   "outputs": [],
   "source": [
    "class GradientDescent(Optimizer):\n",
    "    '''Implementation of gradient descent algorithm.'''\n",
    "    def __init__(self, lr):\n",
    "        Optimizer.__init__(self, lr)\n",
    "        \n",
    "        \n",
    "    def step(self, x, dx):\n",
    "        x = x - self.lr*dx\n",
    "        return x"
   ]
  },
  {
   "cell_type": "code",
   "execution_count": 8,
   "metadata": {
    "ExecuteTime": {
     "end_time": "2018-10-18T01:22:49.414690Z",
     "start_time": "2018-10-18T01:22:49.411827Z"
    }
   },
   "outputs": [],
   "source": [
    "class NoisyGradientDescent(Optimizer):\n",
    "    '''Implementation of gradient descent algorithm with random gaussian noise.'''\n",
    "    def __init__(self, lr, noise):\n",
    "        Optimizer.__init__(self, lr)\n",
    "        self.noise = noise\n",
    "        \n",
    "        \n",
    "    def step(self, x, dx):\n",
    "        x = x - self.lr*dx + np.random.normal(0, self.noise, size=x.shape)\n",
    "        return x"
   ]
  },
  {
   "cell_type": "code",
   "execution_count": 9,
   "metadata": {
    "ExecuteTime": {
     "end_time": "2018-10-18T01:22:49.418659Z",
     "start_time": "2018-10-18T01:22:49.415761Z"
    }
   },
   "outputs": [],
   "source": [
    "class GradientDescentMomentum(Optimizer):\n",
    "    '''Implementation of gradient descent algorithm with momentum.'''\n",
    "    def __init__(self, lr, mom):\n",
    "        Optimizer.__init__(self, lr)\n",
    "        self.mom = mom\n",
    "        self.v = None\n",
    "        \n",
    "        \n",
    "    def step(self, x, dx):\n",
    "        if self.v is None:\n",
    "            self.v = self.lr*dx\n",
    "        else:\n",
    "            self.v = self.mom*self.v + self.lr*dx\n",
    "        x = x - self.v\n",
    "        return x"
   ]
  },
  {
   "cell_type": "markdown",
   "metadata": {},
   "source": [
    "# Hyperparameters"
   ]
  },
  {
   "cell_type": "code",
   "execution_count": 13,
   "metadata": {
    "ExecuteTime": {
     "end_time": "2018-10-19T20:11:27.164268Z",
     "start_time": "2018-10-19T20:11:27.149463Z"
    }
   },
   "outputs": [
    {
     "name": "stdout",
     "output_type": "stream",
     "text": [
      "Eigenvalues of W: \n",
      "(array([2., 1.]), array([[1., 0.],\n",
      "       [0., 1.]]))\n"
     ]
    }
   ],
   "source": [
    "# Quadratic function coefficients\n",
    "W = [[2,0],\n",
    "     [0,1]]\n",
    "print(\"Eigenvalues of W: \")\n",
    "print(np.linalg.eig(W))\n",
    "\n",
    "# Define loss function\n",
    "my_func = lambda x : quad_func(x, W)\n",
    "\n",
    "# activate the optimizer calculation, set to False to skip optimizer calculations\n",
    "optim_flag = True\n",
    "\n",
    "# Optimizer parameters\n",
    "# Uncomment desired optimizer\n",
    "\n",
    "#optimizer = Optimizer(lr=0.1)\n",
    "#optimizer = GradientDescent(lr=0.1)\n",
    "#optimizer = NoisyGradientDescent(lr=0.1, noise=0.1)\n",
    "optimizer = GradientDescentMomentum(lr=0.01, mom=0.95)\n",
    "\n",
    "# number of iterations for optimizer\n",
    "N_ITER = 100\n",
    "\n",
    "# Set initial point\n",
    "x0 = np.asarray((18,18), dtype='float64') \n",
    "\n",
    "# Visualization parameters\n",
    "xlim = ylim = 20.1\n",
    "zlim = 300\n",
    "N_LEVELS = 10"
   ]
  },
  {
   "cell_type": "code",
   "execution_count": 14,
   "metadata": {
    "ExecuteTime": {
     "end_time": "2018-10-19T20:11:27.353871Z",
     "start_time": "2018-10-19T20:11:27.351075Z"
    }
   },
   "outputs": [],
   "source": [
    "def optim_aux(func, optimizer, x, niterations=15, **kwargs):\n",
    "    '''Perform optimization calculation based on optimizer.\n",
    "    \n",
    "    Inputs:\n",
    "    \n",
    "    func: a numerical function defined such that Z = f(x) where x is a vector. \n",
    "    optimizer: Child of the Optimizer() class with a defined step method\n",
    "    x: initial starting point for gradient descent\n",
    "    niterations: max iterations that the network can do\n",
    "    \n",
    "    Outputs:\n",
    "    \n",
    "    path: ndarray() containing the x,y,z path of gradient descent\n",
    "    \n",
    "    '''\n",
    "    z, gradf = func(x)\n",
    "    \n",
    "    # Contains all intermediate results of optimization iteration\n",
    "    path = [x]\n",
    "    zz = [z]\n",
    "    \n",
    "    ii = 0\n",
    "    while ii < niterations and z > -zlim:\n",
    "        \n",
    "        x = optimizer.step(x, gradf)\n",
    "        z, gradf = func(x)\n",
    "\n",
    "        path.append(x)\n",
    "        zz.append(z)\n",
    "        ii+=1\n",
    "\n",
    "    zz = np.expand_dims(np.asarray(zz), axis=1)\n",
    "    path = np.vstack(path)\n",
    "    path = np.hstack([path, zz])\n",
    "    \n",
    "    return path"
   ]
  },
  {
   "cell_type": "markdown",
   "metadata": {},
   "source": [
    "# Visualization"
   ]
  },
  {
   "cell_type": "code",
   "execution_count": 16,
   "metadata": {
    "ExecuteTime": {
     "end_time": "2018-10-19T20:11:28.043833Z",
     "start_time": "2018-10-19T20:11:27.742154Z"
    },
    "scrolled": true
   },
   "outputs": [
    {
     "data": {
      "application/vnd.jupyter.widget-view+json": {
       "model_id": "dd30de6c2eaa4d409a409390fa674671",
       "version_major": 2,
       "version_minor": 0
      },
      "text/plain": [
       "VBox(children=(Figure(animation=200.0, camera=PerspectiveCamera(fov=46.0, quaternion=(0.0, 0.0, 0.0, 1.0), sca…"
      ]
     },
     "metadata": {},
     "output_type": "display_data"
    },
    {
     "data": {
      "image/png": "[encoded data removed]",
      "text/plain": [
       "<Figure size 432x432 with 1 Axes>"
      ]
     },
     "metadata": {
      "needs_background": "light"
     },
     "output_type": "display_data"
    },
    {
     "data": {
      "image/png": "[encoded data removed]",
      "text/plain": [
       "<Figure size 432x432 with 1 Axes>"
      ]
     },
     "metadata": {
      "needs_background": "light"
     },
     "output_type": "display_data"
    }
   ],
   "source": [
    "# Initialize meshgrid\n",
    "dx = dy = 2*xlim/100\n",
    "\n",
    "X = np.arange(-xlim, xlim, dx)\n",
    "Y = np.arange(-ylim, ylim, dy)\n",
    "x = np.meshgrid(X, Y)\n",
    "\n",
    "# Compute function over the entire meshgrid\n",
    "X, Y = x\n",
    "Z = my_func(x)\n",
    "\n",
    "# Define colormap for ipv visualization\n",
    "colormap = cm.jet\n",
    "color = colormap(((Z-np.min(Z)))/np.max(Z))\n",
    "\n",
    "# 3D plot\n",
    "fig = ipv.figure()\n",
    "ipv.pylab.style.axes_off()\n",
    "ipv.pylab.xyzlabel('', '', '')\n",
    "ipv.plot_mesh(X, Y, Z, color=color[...,:3])\n",
    "\n",
    "# 2D Contour plot\n",
    "plt.figure(figsize=(6,6))\n",
    "plt.contour(X, Y, Z, levels=N_LEVELS, cmap=plt.cm.jet)\n",
    "\n",
    "plt.axis([-xlim, xlim, -ylim, ylim])\n",
    "plt.xlim((-xlim, xlim))\n",
    "plt.ylim((-ylim, ylim))\n",
    "plt.axis('square')\n",
    "\n",
    "plt.xlabel('x')\n",
    "plt.ylabel('y')\n",
    "\n",
    "if optim_flag:\n",
    "    \n",
    "    # Perform optimization\n",
    "    func = value_and_grad(my_func)\n",
    "    path = optim_aux(func, optimizer, x0, niterations=N_ITER)\n",
    "    \n",
    "    # Plot 3D path\n",
    "    s = ipv.scatter(path[:, None, 0], path[:, None, 1], path[:, None,2], size=5, color='white', marker=\"sphere\") # path[:,None, 0]: to keep the dimension\n",
    "    ipv.plot(path[:,0], path[:,1], path[:,2], color='white', linewidth=100000)\n",
    "    ipv.animation_control(s)\n",
    "    \n",
    "    # Plot 2D path\n",
    "    plt.scatter(path[0:-1,0], path[0:-1,1], marker=\"x\", color='red')\n",
    "    plt.scatter(path[0,0], path[0,1], marker=\"o\", color='black')\n",
    "    plt.scatter(path[-1,0], path[-1,1], marker=\"x\", color='red')\n",
    "    plt.scatter(0, 0, marker=\"*\", s=250, color='red')\n",
    "    plt.plot(path[:,0], path[:,1])\n",
    "    \n",
    "    # Plot the 2D loss function\n",
    "    plt.figure(figsize=(6,6))\n",
    "    plt.plot(path[:,2])\n",
    "    plt.ylim([0, max(path[:,2])])\n",
    "    plt.xlabel('# updates')\n",
    "    plt.ylabel('loss')\n",
    "\n",
    "ipv.view(azimuth=50, distance=0, elevation=100)\n",
    "    \n",
    "ipv.show()\n",
    "plt.show()\n",
    "\n"
   ]
  },
  {
   "cell_type": "code",
   "execution_count": null,
   "metadata": {},
   "outputs": [],
   "source": []
  }
 ],
 "metadata": {
  "kernelspec": {
   "display_name": "ecole-ivado",
   "language": "python",
   "name": "ecole-ivado"
  },
  "language_info": {
   "codemirror_mode": {
    "name": "ipython",
    "version": 3
   },
   "file_extension": ".py",
   "mimetype": "text/x-python",
   "name": "python",
   "nbconvert_exporter": "python",
   "pygments_lexer": "ipython3",
   "version": "3.7.0"
  },
  "toc": {
   "nav_menu": {},
   "number_sections": true,
   "sideBar": true,
   "skip_h1_title": false,
   "title_cell": "Table of Contents",
   "title_sidebar": "Contents",
   "toc_cell": false,
   "toc_position": {},
   "toc_section_display": true,
   "toc_window_display": false
  },
  "varInspector": {
   "cols": {
    "lenName": 16,
    "lenType": 16,
    "lenVar": 40
   },
   "kernels_config": {
    "python": {
     "delete_cmd_postfix": "",
     "delete_cmd_prefix": "del ",
     "library": "var_list.py",
     "varRefreshCmd": "print(var_dic_list())"
    },
    "r": {
     "delete_cmd_postfix": ") ",
     "delete_cmd_prefix": "rm(",
     "library": "var_list.r",
     "varRefreshCmd": "cat(var_dic_list()) "
    }
   },
   "types_to_exclude": [
    "module",
    "function",
    "builtin_function_or_method",
    "instance",
    "_Feature"
   ],
   "window_display": false
  }
 },
 "nbformat": 4,
 "nbformat_minor": 2
}
